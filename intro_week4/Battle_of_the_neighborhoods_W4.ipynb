{
 "cells": [
  {
   "cell_type": "markdown",
   "metadata": {},
   "source": [
    "# Battle of the Neighborhoods"
   ]
  },
  {
   "cell_type": "markdown",
   "metadata": {},
   "source": [
    "![](https://vignette.wikia.nocookie.net/phineasandferb/images/9/9b/Treehouse_Fight.jpg/revision/latest?cb=20090320212850)"
   ]
  },
  {
   "cell_type": "markdown",
   "metadata": {},
   "source": [
    "## A __Brand New Sports Facility__ in Hyderabad, India\n"
   ]
  },
  {
   "cell_type": "markdown",
   "metadata": {},
   "source": [
    "# Introduction"
   ]
  },
  {
   "cell_type": "markdown",
   "metadata": {},
   "source": [
    "#### Motivation\n",
    "\n",
    "Sports infrastructure in India is in a poor state. Schools often do not have a decent playground. Sports facilities outside schools are virtually non-existent, except in the most expensive communities. Cities have it the worst, having no more than a few dozen expansive facilities in spite of hosting millions of residents. \n",
    "\n",
    "A lack of venues to engange in social and competitive sports is a serious problem to a developing country like India. On the one hand, it contributes to the sedentary lifestyle and feeds into the growing problems linked to obesity. On the other hand, the benefits from sports relating to teamwork, social bonding, and stress relief are not exploited by the city-dwellers. \n",
    "\n",
    "Government facilities do exist in parts of the city. These are often attached to governmental organizations, and do rent out sports fields and halls on demand. Their management, however, is far from acceptable. The facilities are often falling apart, and scheduling could be a major issue unless one has the right connections or a fat wallet. \n",
    "\n",
    "\n",
    "---\n",
    "\n",
    "#### Proposition\n",
    "\n",
    "The lack of sports infrastructure in large cities provides a business opportunity. An opportunity that has great social impact. The young crowd working for the tech and financial services firms would be happy to pay for the service, provided the price is right. Schools and colleges without adequate facilities could also be interested in making block bookings, either for training sessions or tournaments. The aim of this project is to find a suitable location for a multipurpose sports hall. \n"
   ]
  },
  {
   "cell_type": "markdown",
   "metadata": {},
   "source": [
    "# Data"
   ]
  },
  {
   "cell_type": "markdown",
   "metadata": {},
   "source": [
    "#### Data requirements\n",
    "\n",
    "The proposed sports hall will be required to be in the vicinity of other venues that attract the target groups. The venue categories that will be used to this end are\n",
    "1. Gyms and fitness centers, \n",
    "2. Nightlife spots, that attract young, outgoing adults with disposable income\n",
    "3. Schools and colleges\n",
    "\n",
    "Sports facilities, other than fitness centers, are excluded because it is unclear if their presence drives or hinders the present business proposition.\n",
    "\n",
    "#### Methodology\n",
    "\n",
    "__Approach 1__:\n",
    "\n",
    "The city under consideration, Hyderabad, will be divided into a grid of, say, 400 locations. This is easily done by dividing the latitudinal and longitudinal extent of the city into 20x20. For each location, Foursquare API is used to get a list of the number of venues corresponding to the categories chosen above. The number of gridpoints and the search radius for venue exploration are parameters that need to be tuned. \n",
    "\n",
    "The location that has the greatest number of venues within its search radius will be chosen as the tentative location for the sports hall. \n",
    "\n",
    "__Approach 2__:\n",
    "\n",
    "Businesses want to expand and capture market share. The present business investment cannot be short-sighted. A large city such as Hyderabad has room for more than one expansive sports facility. If the business wishes to build a second, a third, or a fourth sports facility, they should not cannibalize the earlier facilities. \n",
    "\n",
    "Instead of choosing a single location, identify __five locations__ that are close to venues belonging to the above categories. The constraint on the locations shall be that each tentative location is at least __5 km__ away from every other location."
   ]
  },
  {
   "cell_type": "markdown",
   "metadata": {},
   "source": []
  }
 ],
 "metadata": {
  "kernelspec": {
   "display_name": "Python 3",
   "language": "python",
   "name": "python3"
  },
  "language_info": {
   "codemirror_mode": {
    "name": "ipython",
    "version": 3
   },
   "file_extension": ".py",
   "mimetype": "text/x-python",
   "name": "python",
   "nbconvert_exporter": "python",
   "pygments_lexer": "ipython3",
   "version": "3.7.0"
  }
 },
 "nbformat": 4,
 "nbformat_minor": 2
}
