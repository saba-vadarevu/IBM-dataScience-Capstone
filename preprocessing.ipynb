{
 "cells": [
  {
   "cell_type": "markdown",
   "metadata": {},
   "source": [
    "# Battle of the Neighborhoods\n",
    "## Pre-processing"
   ]
  },
  {
   "cell_type": "markdown",
   "metadata": {},
   "source": [
    "__Table of Contents__\n",
    "\n",
    "* [Introduction](#Introduction)\n",
    "* [Load venue data](#Load-venue-data)\n",
    "* [Define distances](#Define-distances)\n",
    "* [Nearest neighbors for venue categories](#Nearest-neighbors-for-venue-categories)\n",
    "* [Synthesize datapoints](#Synthesize-datapoints)\n",
    "* [Compile neighbors](#Compile-neighbors)\n",
    "* [Save full dataset](#Save-full-dataset)"
   ]
  },
  {
   "cell_type": "markdown",
   "metadata": {},
   "source": [
    "![](https://vignette.wikia.nocookie.net/phineasandferb/images/9/9b/Treehouse_Fight.jpg/revision/latest?cb=20090320212850)"
   ]
  },
  {
   "cell_type": "markdown",
   "metadata": {},
   "source": [
    "# For a __Brand New Sports Facility__ in Hyderabad, India\n"
   ]
  },
  {
   "cell_type": "markdown",
   "metadata": {},
   "source": [
    "# Introduction\n",
    "\n",
    "__The story so far...__\n",
    "\n",
    "In the notebook 'intro_data.ipynb', the [motivation](intro_data.ipynb#Introduction) for building a sports facility was outlined. [Data](intro_data.ipynb#Data) was also collected using Google Place API, and stored in JSON files. \n",
    "\n",
    "Ten categories of venues in the city (Hyderabad, India) have been collected. A deliberate decision was made to not clean this data because, reasons. These categories are:\n",
    "\n",
    "[Sports facilities, cinemas, pubs, gyms, banks, hospitals, supermarkets, schools, colleges, and restaurants](intro_data.ipynb#Points-of-interest-in-Hyderabad).\n",
    "\n",
    "__In this notebook...__\n",
    "\n",
    "The model(s) we are going to build are based on distance to 'n' nearest venues of each category. In this notebook, we create nearest neighbors models, define a large set of locations to be used for training and testing, and then find distances to nearest venues for these locations. This data is put in a pandas DataFrame and saved to disk for the next step. \n",
    "\n",
    "__In the next notebook...__\n",
    "\n",
    "Use the data from this notebook to try out different features and output labels with different models."
   ]
  },
  {
   "cell_type": "code",
   "execution_count": 1,
   "metadata": {},
   "outputs": [],
   "source": [
    "import json\n",
    "import numpy as np\n",
    "import pandas as pd\n",
    "from geopy.distance import distance\n",
    "import time # Will use sleep from time to pause \n",
    "import matplotlib.pyplot as plt\n",
    "import folium\n",
    "\n",
    "from warnings import warn\n",
    "%matplotlib inline"
   ]
  },
  {
   "cell_type": "code",
   "execution_count": 2,
   "metadata": {},
   "outputs": [],
   "source": [
    "venueCats = [\"sports\", \"cinemas\", \"pubs\", \"gyms\", \"banks\", \n",
    "             \"hospitals\", \"supermarkets\", \"schools\", \"colleges\", \"restaurants\"]\n",
    "venueCats = sorted(venueCats, key=str.lower)\n",
    "\n",
    "# Location of the center of the city: \n",
    "# The location of the \"Buddha Statue\" in a lake called \"Hussain Sagar\" at the center of the city is used\n",
    "lat_CC = 17.415435\n",
    "lng_CC = 78.474296"
   ]
  },
  {
   "cell_type": "markdown",
   "metadata": {},
   "source": [
    "# Load venue data\n",
    "\n",
    "This is the data saved in the previous notebook. This data will __not__ have to be split into training and test data. That will come later, when we start assigning labels to datapoints. For now, just read them into dataframes."
   ]
  },
  {
   "cell_type": "code",
   "execution_count": 3,
   "metadata": {},
   "outputs": [],
   "source": [
    "dataDict = {}    # Keep dataframes in a dict to make life easier\n",
    "\n",
    "for key in venueCats:\n",
    "    df = pd.read_json(key+\".json\")\n",
    "    df.sort_values('Dist_CC', axis=0, ascending=True, inplace=True)\n",
    "    df.reset_index(drop=True,inplace=True)\n",
    "    dataDict[key] = df"
   ]
  },
  {
   "cell_type": "code",
   "execution_count": 4,
   "metadata": {},
   "outputs": [
    {
     "data": {
      "text/html": [
       "<div>\n",
       "<style scoped>\n",
       "    .dataframe tbody tr th:only-of-type {\n",
       "        vertical-align: middle;\n",
       "    }\n",
       "\n",
       "    .dataframe tbody tr th {\n",
       "        vertical-align: top;\n",
       "    }\n",
       "\n",
       "    .dataframe thead th {\n",
       "        text-align: right;\n",
       "    }\n",
       "</style>\n",
       "<table border=\"1\" class=\"dataframe\">\n",
       "  <thead>\n",
       "    <tr style=\"text-align: right;\">\n",
       "      <th></th>\n",
       "      <th>Name</th>\n",
       "      <th>ID</th>\n",
       "      <th>Latitude</th>\n",
       "      <th>Longitude</th>\n",
       "      <th>View_NE_lat</th>\n",
       "      <th>View_NE_long</th>\n",
       "      <th>View_SW_lat</th>\n",
       "      <th>View_SW_long</th>\n",
       "      <th>Dist_CC</th>\n",
       "    </tr>\n",
       "  </thead>\n",
       "  <tbody>\n",
       "    <tr>\n",
       "      <th>0</th>\n",
       "      <td>H2 The Restro Bar</td>\n",
       "      <td>ChIJ5XDsL1yXyzsRlUvwEK_9ZRw</td>\n",
       "      <td>17.407272</td>\n",
       "      <td>78.468875</td>\n",
       "      <td>17.408658</td>\n",
       "      <td>78.470320</td>\n",
       "      <td>17.405959</td>\n",
       "      <td>78.467620</td>\n",
       "      <td>1071</td>\n",
       "    </tr>\n",
       "    <tr>\n",
       "      <th>1</th>\n",
       "      <td>Head Quarters Rest O Bar</td>\n",
       "      <td>ChIJ4Zfn6k2XyzsRTFiKgYzj2ts</td>\n",
       "      <td>17.422160</td>\n",
       "      <td>78.462548</td>\n",
       "      <td>17.423520</td>\n",
       "      <td>78.463939</td>\n",
       "      <td>17.420820</td>\n",
       "      <td>78.461240</td>\n",
       "      <td>1453</td>\n",
       "    </tr>\n",
       "    <tr>\n",
       "      <th>2</th>\n",
       "      <td>Kismet</td>\n",
       "      <td>ChIJaesir02XyzsRlZ0dXm9uC4g</td>\n",
       "      <td>17.423237</td>\n",
       "      <td>78.462453</td>\n",
       "      <td>17.424560</td>\n",
       "      <td>78.463792</td>\n",
       "      <td>17.421860</td>\n",
       "      <td>78.461092</td>\n",
       "      <td>1526</td>\n",
       "    </tr>\n",
       "    <tr>\n",
       "      <th>3</th>\n",
       "      <td>Hydrate</td>\n",
       "      <td>ChIJl2l9N12XyzsRWQdSRlfWQf4</td>\n",
       "      <td>17.405123</td>\n",
       "      <td>78.464534</td>\n",
       "      <td>17.406532</td>\n",
       "      <td>78.465789</td>\n",
       "      <td>17.403833</td>\n",
       "      <td>78.463090</td>\n",
       "      <td>1542</td>\n",
       "    </tr>\n",
       "    <tr>\n",
       "      <th>4</th>\n",
       "      <td>Hotel Meghacity Bar and Restaurant</td>\n",
       "      <td>ChIJq6qqat-ZyzsRwb2gbtJqz7w</td>\n",
       "      <td>17.401491</td>\n",
       "      <td>78.476170</td>\n",
       "      <td>17.402890</td>\n",
       "      <td>78.477377</td>\n",
       "      <td>17.400191</td>\n",
       "      <td>78.474678</td>\n",
       "      <td>1556</td>\n",
       "    </tr>\n",
       "    <tr>\n",
       "      <th>5</th>\n",
       "      <td>Eagle Bar &amp; Restaurant</td>\n",
       "      <td>ChIJAQAAwGiXyzsRK7BK7qMn6Iw</td>\n",
       "      <td>17.404695</td>\n",
       "      <td>78.464663</td>\n",
       "      <td>17.406048</td>\n",
       "      <td>78.465883</td>\n",
       "      <td>17.403348</td>\n",
       "      <td>78.463183</td>\n",
       "      <td>1569</td>\n",
       "    </tr>\n",
       "    <tr>\n",
       "      <th>6</th>\n",
       "      <td>Aqua</td>\n",
       "      <td>ChIJoVVVFUyXyzsRl2roHpV2Ah4</td>\n",
       "      <td>17.423548</td>\n",
       "      <td>78.462092</td>\n",
       "      <td>17.424789</td>\n",
       "      <td>78.463399</td>\n",
       "      <td>17.422089</td>\n",
       "      <td>78.460700</td>\n",
       "      <td>1577</td>\n",
       "    </tr>\n",
       "    <tr>\n",
       "      <th>7</th>\n",
       "      <td>Carbon</td>\n",
       "      <td>ChIJCU7zCk2XyzsRL4fpXHCLQ2k</td>\n",
       "      <td>17.423788</td>\n",
       "      <td>78.462254</td>\n",
       "      <td>17.425248</td>\n",
       "      <td>78.463652</td>\n",
       "      <td>17.422549</td>\n",
       "      <td>78.460953</td>\n",
       "      <td>1578</td>\n",
       "    </tr>\n",
       "    <tr>\n",
       "      <th>8</th>\n",
       "      <td>THE SICCA BAR</td>\n",
       "      <td>ChIJcXIcoU2XyzsRkOtZBO6O-Vo</td>\n",
       "      <td>17.423758</td>\n",
       "      <td>78.462007</td>\n",
       "      <td>17.425131</td>\n",
       "      <td>78.463231</td>\n",
       "      <td>17.422432</td>\n",
       "      <td>78.460531</td>\n",
       "      <td>1598</td>\n",
       "    </tr>\n",
       "    <tr>\n",
       "      <th>9</th>\n",
       "      <td>Altitude Lounge Bar Hyderabad Marriott Hotel &amp;...</td>\n",
       "      <td>ChIJVSo9b_eZyzsRurdW5Gr6vOQ</td>\n",
       "      <td>17.424267</td>\n",
       "      <td>78.487381</td>\n",
       "      <td>17.425757</td>\n",
       "      <td>78.488892</td>\n",
       "      <td>17.423058</td>\n",
       "      <td>78.486192</td>\n",
       "      <td>1700</td>\n",
       "    </tr>\n",
       "  </tbody>\n",
       "</table>\n",
       "</div>"
      ],
      "text/plain": [
       "                                                Name  \\\n",
       "0                                  H2 The Restro Bar   \n",
       "1                           Head Quarters Rest O Bar   \n",
       "2                                             Kismet   \n",
       "3                                            Hydrate   \n",
       "4                 Hotel Meghacity Bar and Restaurant   \n",
       "5                             Eagle Bar & Restaurant   \n",
       "6                                               Aqua   \n",
       "7                                             Carbon   \n",
       "8                                      THE SICCA BAR   \n",
       "9  Altitude Lounge Bar Hyderabad Marriott Hotel &...   \n",
       "\n",
       "                            ID   Latitude  Longitude  View_NE_lat  \\\n",
       "0  ChIJ5XDsL1yXyzsRlUvwEK_9ZRw  17.407272  78.468875    17.408658   \n",
       "1  ChIJ4Zfn6k2XyzsRTFiKgYzj2ts  17.422160  78.462548    17.423520   \n",
       "2  ChIJaesir02XyzsRlZ0dXm9uC4g  17.423237  78.462453    17.424560   \n",
       "3  ChIJl2l9N12XyzsRWQdSRlfWQf4  17.405123  78.464534    17.406532   \n",
       "4  ChIJq6qqat-ZyzsRwb2gbtJqz7w  17.401491  78.476170    17.402890   \n",
       "5  ChIJAQAAwGiXyzsRK7BK7qMn6Iw  17.404695  78.464663    17.406048   \n",
       "6  ChIJoVVVFUyXyzsRl2roHpV2Ah4  17.423548  78.462092    17.424789   \n",
       "7  ChIJCU7zCk2XyzsRL4fpXHCLQ2k  17.423788  78.462254    17.425248   \n",
       "8  ChIJcXIcoU2XyzsRkOtZBO6O-Vo  17.423758  78.462007    17.425131   \n",
       "9  ChIJVSo9b_eZyzsRurdW5Gr6vOQ  17.424267  78.487381    17.425757   \n",
       "\n",
       "   View_NE_long  View_SW_lat  View_SW_long  Dist_CC  \n",
       "0     78.470320    17.405959     78.467620     1071  \n",
       "1     78.463939    17.420820     78.461240     1453  \n",
       "2     78.463792    17.421860     78.461092     1526  \n",
       "3     78.465789    17.403833     78.463090     1542  \n",
       "4     78.477377    17.400191     78.474678     1556  \n",
       "5     78.465883    17.403348     78.463183     1569  \n",
       "6     78.463399    17.422089     78.460700     1577  \n",
       "7     78.463652    17.422549     78.460953     1578  \n",
       "8     78.463231    17.422432     78.460531     1598  \n",
       "9     78.488892    17.423058     78.486192     1700  "
      ]
     },
     "execution_count": 4,
     "metadata": {},
     "output_type": "execute_result"
    }
   ],
   "source": [
    "dataDict['pubs'].head(10)"
   ]
  },
  {
   "cell_type": "markdown",
   "metadata": {},
   "source": [
    "Yep, things look like they should. Moving on....\n"
   ]
  },
  {
   "cell_type": "code",
   "execution_count": null,
   "metadata": {},
   "outputs": [],
   "source": []
  },
  {
   "cell_type": "markdown",
   "metadata": {},
   "source": [
    "# Define distances"
   ]
  },
  {
   "cell_type": "markdown",
   "metadata": {},
   "source": [
    "Create a nearest neighbors model to extract venues closest to a specified location. The distance metric is important for nearest neighbors searches. In the previous notebook, we used Geopy's distance() function. Because a lot of calls to this function will be issued, it really helps to find a cheaper (less time consuming) implementation. \n",
    "\n",
    "(I'm going to pretend that I was smart enough to realize the importance of the distance metric. What actually happened was, my nearest neighbors was taking WAAAAAAAY TOO LONG. I profiled the code and found that Geopy's distance() was the culprit. Then I tried the following approximate distance metric. This produces fairly good speed up, enough for me to go back and clean up the entire notebook.)\n",
    "\n",
    "__We will also start using km as the unit for distance instead of m, so that the numbers don't get too large.__"
   ]
  },
  {
   "cell_type": "markdown",
   "metadata": {},
   "source": [
    "We can approximately calculate distances assuming the earth is spherical, and is locally Euclidean (i.e., Pythagoras theorem holds). How much error do we get under this approximation?\n",
    "\n",
    "Let's approximate radius of earth as a constant 6,370 km. \n",
    "\n",
    "Distance between two points can be approximated using Pythagoras theorem as\n",
    "$$s = \\sqrt{\\Delta x ^2 + \\Delta y ^2},$$\n",
    "where $\\Delta x$ is the distance along East-West, and $\\Delta y$ is the distance along North-South.\n",
    "\n",
    "The East-West distance can be further approximated using the circumference of the latitude line that runs through the city center (lat=17.4154), \n",
    "$$ circ_{lat} = 2 \\pi R_{Earth} \\cos(17.4154),$$\n",
    "and dividing this circumference into 360 longitudes, so that\n",
    "$$\\Delta x = \\frac{circ_{lat}}{360} |lng_2 - lng_1|.$$\n",
    "\n",
    "The North-South distance is similarly approximated using the circumference of the Earth (assumed to be spherical) as\n",
    "$$ \\Delta y = \\frac{2\\pi R_{Earth}}{360}|lat_2 - lat_1| $$\n"
   ]
  },
  {
   "cell_type": "code",
   "execution_count": 5,
   "metadata": {},
   "outputs": [
    {
     "name": "stdout",
     "output_type": "stream",
     "text": [
      "Distance using GeoPy from CC to (17.3,78.5):13.06 km\n",
      "Distance using the above function from CC to (17.3,78.5):13.12 km\n"
     ]
    }
   ],
   "source": [
    "latCC = lat_CC\n",
    "lngCC = lng_CC\n",
    "\n",
    "rEarth = 6370\n",
    "circEarth = 2.*np.pi*rEarth\n",
    "rLatCity = rEarth*np.cos(np.pi*latCC/180.)\n",
    "circLatCity = 2.*np.pi*rLatCity\n",
    "\n",
    "def approxDistFun(loc1, loc2):\n",
    "    deltaLat = abs(loc1[0]-loc2[0])\n",
    "    deltaLng = abs(loc1[1]-loc2[1])\n",
    "    return np.sqrt( (circEarth/360.*deltaLat)**2  + (circLatCity/360.*deltaLng)**2  )\n",
    "\n",
    "latTest = 17.3\n",
    "lngTest = 78.5\n",
    "\n",
    "# Let's see distances given by the two functions\n",
    "print(\"Distance using GeoPy from CC to ({},{}):{:.2f} km\".format(\n",
    "            latTest, lngTest, distance((latCC,lngCC),(latTest,lngTest)).km))\n",
    "print(\"Distance using the above function from CC to ({},{}):{:.2f} km\".format(\n",
    "            latTest, lngTest, approxDistFun((latCC,lngCC),(latTest,lngTest))))"
   ]
  },
  {
   "cell_type": "markdown",
   "metadata": {},
   "source": [
    "The distances look close enough. Does the new implementation provide any reasonable benefit though?"
   ]
  },
  {
   "cell_type": "code",
   "execution_count": 6,
   "metadata": {},
   "outputs": [
    {
     "name": "stdout",
     "output_type": "stream",
     "text": [
      "241 µs ± 1.47 µs per loop (mean ± std. dev. of 7 runs, 1000 loops each)\n",
      "3.56 µs ± 20.6 ns per loop (mean ± std. dev. of 7 runs, 100000 loops each)\n"
     ]
    }
   ],
   "source": [
    "%timeit distance((latCC,lngCC),(latTest,lngTest)).km\n",
    "%timeit approxDistFun((latCC,lngCC),(latTest,lngTest))"
   ]
  },
  {
   "cell_type": "markdown",
   "metadata": {},
   "source": [
    "Yep. The new function is about 70 times faster. This speed up can make a very real difference to nearest neighbors search. "
   ]
  },
  {
   "cell_type": "code",
   "execution_count": 7,
   "metadata": {},
   "outputs": [
    {
     "data": {
      "image/png": "[encoded data removed]",
      "text/plain": [
       "<Figure size 432x288 with 1 Axes>"
      ]
     },
     "metadata": {
      "needs_background": "light"
     },
     "output_type": "display_data"
    }
   ],
   "source": [
    "# Compare distance for a bunch of locations from city center to make sure the ranking is adequate.\n",
    "n_test = 25\n",
    "loc_min = [17.3, 78.3]\n",
    "loc_max = [17.5, 78.5]\n",
    "locArr = np.random.uniform(low=loc_min, high=loc_max, size=(n_test,2))\n",
    "\n",
    "distArr = np.zeros((locArr.shape[0],2))\n",
    "for ind in range(distArr.shape[0]):\n",
    "    distArr[ind,0] = distance( (latCC,lngCC), (locArr[ind,0], locArr[ind,1])  ).km\n",
    "    distArr[ind,1] = approxDistFun( (latCC, lngCC), (locArr[ind,0], locArr[ind,1])  )\n",
    "\n",
    "plt.plot(distArr[:,0], np.abs(distArr[:,1]-distArr[:,0])/distArr[:,0]*100., 'rx', label='Perc. Error')\n",
    "plt.title(\"Accuracy of approxDistFun()\")\n",
    "plt.xlabel(\"Distance from city center (km)\")\n",
    "plt.ylabel(\"Abs. perc. error in distance\")\n",
    "plt.legend()\n",
    "plt.show()"
   ]
  },
  {
   "cell_type": "code",
   "execution_count": 8,
   "metadata": {},
   "outputs": [
    {
     "data": {
      "image/png": "[encoded data removed]",
      "text/plain": [
       "<Figure size 432x288 with 1 Axes>"
      ]
     },
     "metadata": {
      "needs_background": "light"
     },
     "output_type": "display_data"
    }
   ],
   "source": [
    "# Compare distance for a bunch of locations from a different location\n",
    "locTest = (17.3, 78.3)\n",
    "n_test = 25\n",
    "loc_min = [17.3, 78.3]\n",
    "loc_max = [17.5, 78.5]\n",
    "locArr = np.random.uniform(low=loc_min, high=loc_max, size=(n_test,2))\n",
    "\n",
    "distArr = np.zeros((locArr.shape[0],2))\n",
    "for ind in range(distArr.shape[0]):\n",
    "    distArr[ind,0] = distance( locTest, (locArr[ind,0], locArr[ind,1])  ).km\n",
    "    distArr[ind,1] = approxDistFun( locTest, (locArr[ind,0], locArr[ind,1])  )\n",
    "\n",
    "plt.plot(distArr[:,0], np.abs(distArr[:,1]-distArr[:,0])/distArr[:,0]*100., 'rx', label='Perc. Error')\n",
    "plt.title(\"Accuracy of approxDistFun()\")\n",
    "plt.xlabel(\"Distance from test location:({},{}) (in km)\".format(locTest[0],locTest[1]))\n",
    "plt.ylabel(\"Abs. perc. error in distance\")\n",
    "plt.legend()\n",
    "plt.show()\n"
   ]
  },
  {
   "cell_type": "markdown",
   "metadata": {},
   "source": [
    "Yep. The new function does well. It's 70x faster, and is only off by less than 0.5%. Let's use this function in the nearest neighbors model instead of Geopy's distance."
   ]
  },
  {
   "cell_type": "code",
   "execution_count": null,
   "metadata": {},
   "outputs": [],
   "source": []
  },
  {
   "cell_type": "code",
   "execution_count": null,
   "metadata": {},
   "outputs": [],
   "source": []
  },
  {
   "cell_type": "markdown",
   "metadata": {},
   "source": [
    "# Nearest neighbors for venue categories"
   ]
  },
  {
   "cell_type": "markdown",
   "metadata": {},
   "source": [
    "We plan on building a model that relates distances to nearby venues to the suitability for establishing a sports facility. To make this happen, we need functions that compute these distances for any specified location, obviously. Scikit-learn's unsupervised nearest neighbors models do just that. \n",
    "\n",
    "We will define a dictionary containing all of these models. "
   ]
  },
  {
   "cell_type": "code",
   "execution_count": 9,
   "metadata": {},
   "outputs": [],
   "source": [
    "from sklearn.neighbors import NearestNeighbors\n",
    "\n",
    "n_nbrs = 10 # 10 nearest venues. A subset of these will later be used to create features\n",
    "# Increase this value if needed. 10 should be sufficient though.\n",
    "\n",
    "# Create a dictionary to hold all of the kNN models.\n",
    "closestVenueModel = {}\n",
    "\n",
    "for key in venueCats:\n",
    "    # Extract latitudes and longitudes from dataframe as a numpy array\n",
    "    venueLocations = dataDict[key][['Latitude','Longitude']].to_numpy()\n",
    "    closestVenueModel[key] = NearestNeighbors(n_neighbors=n_nbrs, metric=approxDistFun).fit(venueLocations)       "
   ]
  },
  {
   "cell_type": "code",
   "execution_count": 10,
   "metadata": {},
   "outputs": [
    {
     "data": {
      "text/plain": [
       "(array([[1.38801317, 1.51417427, 1.55449886, 1.5778382 , 1.60763152,\n",
       "         1.6469337 , 1.6813929 , 1.69710147, 1.72791897, 1.78744891]]),\n",
       " array([[0, 1, 2, 3, 4, 5, 6, 7, 8, 9]], dtype=int64))"
      ]
     },
     "execution_count": 10,
     "metadata": {},
     "output_type": "execute_result"
    }
   ],
   "source": [
    "# Let's see what we get if we ask for venues closest to city center\n",
    "distances, indices = closestVenueModel['banks'].kneighbors([[lat_CC,lng_CC]])\n",
    "distances,indices"
   ]
  },
  {
   "cell_type": "markdown",
   "metadata": {},
   "source": [
    "Yep... We sorted the dataframes already by distance from city center, so the indices must be the first 10. Note that the distances calculated here, using approxDistFun(), differ slightly from the 'Dist_CC' column in the data saved in the previous notebook. Also, we now report distances in km instead of the previous m."
   ]
  },
  {
   "cell_type": "code",
   "execution_count": 11,
   "metadata": {},
   "outputs": [
    {
     "data": {
      "text/html": [
       "<div>\n",
       "<style scoped>\n",
       "    .dataframe tbody tr th:only-of-type {\n",
       "        vertical-align: middle;\n",
       "    }\n",
       "\n",
       "    .dataframe tbody tr th {\n",
       "        vertical-align: top;\n",
       "    }\n",
       "\n",
       "    .dataframe thead th {\n",
       "        text-align: right;\n",
       "    }\n",
       "</style>\n",
       "<table border=\"1\" class=\"dataframe\">\n",
       "  <thead>\n",
       "    <tr style=\"text-align: right;\">\n",
       "      <th></th>\n",
       "      <th>Name</th>\n",
       "      <th>ID</th>\n",
       "      <th>Latitude</th>\n",
       "      <th>Longitude</th>\n",
       "      <th>View_NE_lat</th>\n",
       "      <th>View_NE_long</th>\n",
       "      <th>View_SW_lat</th>\n",
       "      <th>View_SW_long</th>\n",
       "      <th>Dist_CC</th>\n",
       "    </tr>\n",
       "  </thead>\n",
       "  <tbody>\n",
       "    <tr>\n",
       "      <th>0</th>\n",
       "      <td>The Hongkong And Shanghai Banking Corporation ...</td>\n",
       "      <td>ChIJvwWaYkyXyzsRbwJxN4y4bso</td>\n",
       "      <td>17.418570</td>\n",
       "      <td>78.461631</td>\n",
       "      <td>17.419927</td>\n",
       "      <td>78.462959</td>\n",
       "      <td>17.417228</td>\n",
       "      <td>78.460259</td>\n",
       "      <td>1390</td>\n",
       "    </tr>\n",
       "    <tr>\n",
       "      <th>1</th>\n",
       "      <td>Union Bank Of India</td>\n",
       "      <td>ChIJL_wg6X6XyzsRr3PTAhKPr_0</td>\n",
       "      <td>17.423035</td>\n",
       "      <td>78.462451</td>\n",
       "      <td>17.424445</td>\n",
       "      <td>78.463825</td>\n",
       "      <td>17.421746</td>\n",
       "      <td>78.461125</td>\n",
       "      <td>1514</td>\n",
       "    </tr>\n",
       "    <tr>\n",
       "      <th>2</th>\n",
       "      <td>State Bank of India</td>\n",
       "      <td>ChIJtzBdjUWXyzsRlLW3KmGUbXs</td>\n",
       "      <td>17.414220</td>\n",
       "      <td>78.459698</td>\n",
       "      <td>17.415499</td>\n",
       "      <td>78.461250</td>\n",
       "      <td>17.412800</td>\n",
       "      <td>78.458550</td>\n",
       "      <td>1557</td>\n",
       "    </tr>\n",
       "    <tr>\n",
       "      <th>3</th>\n",
       "      <td>Kotak Mahindra Bank</td>\n",
       "      <td>ChIJlaE4SlyXyzsRaFacSlBzmks</td>\n",
       "      <td>17.413222</td>\n",
       "      <td>78.459604</td>\n",
       "      <td>17.414546</td>\n",
       "      <td>78.460877</td>\n",
       "      <td>17.411846</td>\n",
       "      <td>78.458177</td>\n",
       "      <td>1580</td>\n",
       "    </tr>\n",
       "    <tr>\n",
       "      <th>4</th>\n",
       "      <td>hfcs Bank</td>\n",
       "      <td>ChIJc2a1yUWXyzsR7fP5jUqmr94</td>\n",
       "      <td>17.412425</td>\n",
       "      <td>78.459473</td>\n",
       "      <td>17.413709</td>\n",
       "      <td>78.460858</td>\n",
       "      <td>17.411009</td>\n",
       "      <td>78.458158</td>\n",
       "      <td>1610</td>\n",
       "    </tr>\n",
       "    <tr>\n",
       "      <th>5</th>\n",
       "      <td>Yes Bank</td>\n",
       "      <td>ChIJJxaCq02XyzsRAyHFroORqRE</td>\n",
       "      <td>17.423327</td>\n",
       "      <td>78.461158</td>\n",
       "      <td>17.424571</td>\n",
       "      <td>78.462487</td>\n",
       "      <td>17.421871</td>\n",
       "      <td>78.459788</td>\n",
       "      <td>1647</td>\n",
       "    </tr>\n",
       "    <tr>\n",
       "      <th>6</th>\n",
       "      <td>State Bank Of Mauritius Limited</td>\n",
       "      <td>ChIJ3_7dVEyXyzsRAYiqtdnlrd4</td>\n",
       "      <td>17.423521</td>\n",
       "      <td>78.460901</td>\n",
       "      <td>17.424693</td>\n",
       "      <td>78.462214</td>\n",
       "      <td>17.421994</td>\n",
       "      <td>78.459515</td>\n",
       "      <td>1681</td>\n",
       "    </tr>\n",
       "    <tr>\n",
       "      <th>7</th>\n",
       "      <td>Canara Bank</td>\n",
       "      <td>ChIJyTpmUEyXyzsRz67TSX0kAQc</td>\n",
       "      <td>17.422913</td>\n",
       "      <td>78.460349</td>\n",
       "      <td>17.424377</td>\n",
       "      <td>78.461717</td>\n",
       "      <td>17.421677</td>\n",
       "      <td>78.459017</td>\n",
       "      <td>1697</td>\n",
       "    </tr>\n",
       "    <tr>\n",
       "      <th>8</th>\n",
       "      <td>State Bank of India భారతీయ స్టేట్ బ్యాంక్</td>\n",
       "      <td>ChIJnb28T0uXyzsRCztN8otRUts</td>\n",
       "      <td>17.423393</td>\n",
       "      <td>78.460305</td>\n",
       "      <td>17.424741</td>\n",
       "      <td>78.461668</td>\n",
       "      <td>17.422041</td>\n",
       "      <td>78.458968</td>\n",
       "      <td>1728</td>\n",
       "    </tr>\n",
       "    <tr>\n",
       "      <th>9</th>\n",
       "      <td>South Indian Bank</td>\n",
       "      <td>ChIJedIKW0yXyzsR8MqogFvd9qc</td>\n",
       "      <td>17.423300</td>\n",
       "      <td>78.459600</td>\n",
       "      <td>17.424628</td>\n",
       "      <td>78.460944</td>\n",
       "      <td>17.421929</td>\n",
       "      <td>78.458245</td>\n",
       "      <td>1788</td>\n",
       "    </tr>\n",
       "  </tbody>\n",
       "</table>\n",
       "</div>"
      ],
      "text/plain": [
       "                                                Name  \\\n",
       "0  The Hongkong And Shanghai Banking Corporation ...   \n",
       "1                                Union Bank Of India   \n",
       "2                                State Bank of India   \n",
       "3                                Kotak Mahindra Bank   \n",
       "4                                          hfcs Bank   \n",
       "5                                           Yes Bank   \n",
       "6                    State Bank Of Mauritius Limited   \n",
       "7                                        Canara Bank   \n",
       "8          State Bank of India భారతీయ స్టేట్ బ్యాంక్   \n",
       "9                                  South Indian Bank   \n",
       "\n",
       "                            ID   Latitude  Longitude  View_NE_lat  \\\n",
       "0  ChIJvwWaYkyXyzsRbwJxN4y4bso  17.418570  78.461631    17.419927   \n",
       "1  ChIJL_wg6X6XyzsRr3PTAhKPr_0  17.423035  78.462451    17.424445   \n",
       "2  ChIJtzBdjUWXyzsRlLW3KmGUbXs  17.414220  78.459698    17.415499   \n",
       "3  ChIJlaE4SlyXyzsRaFacSlBzmks  17.413222  78.459604    17.414546   \n",
       "4  ChIJc2a1yUWXyzsR7fP5jUqmr94  17.412425  78.459473    17.413709   \n",
       "5  ChIJJxaCq02XyzsRAyHFroORqRE  17.423327  78.461158    17.424571   \n",
       "6  ChIJ3_7dVEyXyzsRAYiqtdnlrd4  17.423521  78.460901    17.424693   \n",
       "7  ChIJyTpmUEyXyzsRz67TSX0kAQc  17.422913  78.460349    17.424377   \n",
       "8  ChIJnb28T0uXyzsRCztN8otRUts  17.423393  78.460305    17.424741   \n",
       "9  ChIJedIKW0yXyzsR8MqogFvd9qc  17.423300  78.459600    17.424628   \n",
       "\n",
       "   View_NE_long  View_SW_lat  View_SW_long  Dist_CC  \n",
       "0     78.462959    17.417228     78.460259     1390  \n",
       "1     78.463825    17.421746     78.461125     1514  \n",
       "2     78.461250    17.412800     78.458550     1557  \n",
       "3     78.460877    17.411846     78.458177     1580  \n",
       "4     78.460858    17.411009     78.458158     1610  \n",
       "5     78.462487    17.421871     78.459788     1647  \n",
       "6     78.462214    17.421994     78.459515     1681  \n",
       "7     78.461717    17.421677     78.459017     1697  \n",
       "8     78.461668    17.422041     78.458968     1728  \n",
       "9     78.460944    17.421929     78.458245     1788  "
      ]
     },
     "execution_count": 11,
     "metadata": {},
     "output_type": "execute_result"
    }
   ],
   "source": [
    "dataDict['banks'].iloc[indices.flat]"
   ]
  },
  {
   "cell_type": "code",
   "execution_count": 13,
   "metadata": {},
   "outputs": [
    {
     "name": "stdout",
     "output_type": "stream",
     "text": [
      "Finding 10 closest schools to (17.5,78.5)...\n",
      "Latitude , Longitude, Dist   \n",
      " 17.49901,  78.49971,  0.1142\n",
      " 17.50514,  78.50192,  0.6071\n",
      " 17.50687,  78.50025,  0.7645\n",
      " 17.50650,  78.50280,  0.7810\n",
      " 17.50590,  78.50464,  0.8195\n",
      " 17.50640,  78.49585,  0.8370\n",
      " 17.50529,  78.50606,  0.8713\n",
      " 17.49446,  78.50605,  0.8900\n",
      " 17.50793,  78.49884,  0.8903\n",
      " 17.50628,  78.50532,  0.8975\n"
     ]
    }
   ],
   "source": [
    "# Let's try a different location\n",
    "lat = 17.5\n",
    "lng = 78.5\n",
    "venueCat = \"schools\"\n",
    "print(\"Finding {} closest {} to ({},{})...\".format(n_nbrs,venueCat,lat, lng))\n",
    "distances, indices = closestVenueModel[venueCat].kneighbors([[lat,lng]])\n",
    "closestSchools_test = dataDict[venueCat][['Latitude','Longitude']].iloc[indices.flat].values\n",
    "distances_test = [approxDistFun((lat,lng), tuple(row)) for row in closestSchools_test]\n",
    "\n",
    "print(\"{:9s}, {:9s}, {:7s}\".format(\"Latitude\", \"Longitude\", \"Dist\"))\n",
    "for ix in range(n_nbrs):\n",
    "    print(\"{:9.5f}, {:9.5f}, {:7.4f}\".format(closestSchools_test[ix,0], closestSchools_test[ix,1], distances_test[ix]))"
   ]
  },
  {
   "cell_type": "markdown",
   "metadata": {},
   "source": [
    "A bunch of schools within a kilometre, sorted by distance. Looks okay to me. That's all the __\"testing\"__ we'll do here.\n",
    "\n",
    "While I'm at it, I'll also define a function that produces a map of venues around a location."
   ]
  },
  {
   "cell_type": "code",
   "execution_count": 15,
   "metadata": {},
   "outputs": [],
   "source": [
    "def showNearbyVenues(venueCat, latLoc, lngLoc):\n",
    "    # Get indices of nearest venues of category venueCat\n",
    "    indices = closestVenueModel[venueCat].kneighbors([[latLoc,lngLoc]])[1]\n",
    "    \n",
    "    # Get locations from dataDict\n",
    "    df = dataDict[venueCat].iloc[indices.flat]\n",
    "    map_venues = folium.Map(\n",
    "        location=[df['Latitude'].mean(), df['Longitude'].mean()], zoom_start=15)\n",
    "    \n",
    "    label = folium.Popup(\"Query Loc:({},{})\".format(latLoc,lngLoc), parse_html=True)\n",
    "    folium.Marker(\n",
    "            [latLoc, lngLoc],\n",
    "            popup=label, icon=folium.Icon(color='red')).add_to(map_venues)\n",
    "    for lat, lon,name in zip(df['Latitude'], df['Longitude'], df['Name']):\n",
    "        label = folium.Popup(str(name), parse_html=True)\n",
    "        folium.CircleMarker(\n",
    "            [lat, lon],\n",
    "            radius=8,\n",
    "            popup=label,\n",
    "            fill=True,\n",
    "            fill_opacity=0.7).add_to(map_venues)\n",
    "       \n",
    "    return map_venues"
   ]
  },
  {
   "cell_type": "code",
   "execution_count": 16,
   "metadata": {},
   "outputs": [
    {
     "data": {
      "text/html": [
       "<div style=\"width:100%;\"><div style=\"position:relative;width:100%;height:0;padding-bottom:60%;\"><iframe src=\"data:text/html;charset=utf-8;base64,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\" style=\"position:absolute;width:100%;height:100%;left:0;top:0;border:none !important;\" allowfullscreen webkitallowfullscreen mozallowfullscreen></iframe></div></div>"
      ],
      "text/plain": [
       "<folium.folium.Map at 0x22cfbe46978>"
      ]
     },
     "execution_count": 16,
     "metadata": {},
     "output_type": "execute_result"
    }
   ],
   "source": [
    "showNearbyVenues('pubs', 17.42, 78.36)"
   ]
  },
  {
   "cell_type": "code",
   "execution_count": null,
   "metadata": {},
   "outputs": [],
   "source": []
  },
  {
   "cell_type": "markdown",
   "metadata": {},
   "source": [
    "# Synthesize datapoints"
   ]
  },
  {
   "cell_type": "markdown",
   "metadata": {},
   "source": [
    "To train and to test the model, we need datapoints that have a range of suitability scores. We will build these datasets in three steps.\n",
    "\n",
    "1. Use the locations of all of the existing sports facilities. These locations should have $S=1$\n",
    "2. Randomly select a lot of locations within the city (numpy's rand.uniform). These locations should have $0< S \\leq 1$.\n",
    "3. Split the above set into a training set and a test set. The training set can later be split into validation sets for cross validation. \n",
    "\n",
    "The assignment of suitability scores to the locations is discussed during feature selection in the next notebook.\n",
    "\n",
    "So, how many randomly selected points? Let's have 10x the number of existing sports facilities. Why? Because this puts the total number of datapoints at about 8000. That sounds like a good number of datapoints to have for this project. After all, the locations have only two spatial coordinates, and the extracted feature vectors can be between 9 and 90 (9 if we use one measure of distance for each venue category, 90 if we use all 10 nearest neighbor distances for each category). 8000+ datapoints for 9 features sounds pretty good, and is pretty decent even for 90.\n",
    "\n",
    "If 8000+ datapoints aren't enough, I can always come back and increase the number of datapoints. If you, the reader, are feeling a bit adventurous, you could even use datapoints from other cities in India to supplement this dataset. "
   ]
  },
  {
   "cell_type": "markdown",
   "metadata": {},
   "source": [
    "__There is a case to be made for using a normal distribution of locations instead of a uniform distribution, so datapoints are clustered around the city center. We will not explore this case.__"
   ]
  },
  {
   "cell_type": "code",
   "execution_count": 16,
   "metadata": {},
   "outputs": [],
   "source": [
    "n_exLoc = len(dataDict['sports'])  # Number of existing sports facilities\n",
    "n_rand = 10*n_exLoc\n",
    "n_total = n_exLoc + n_rand\n",
    "\n",
    "# Define boundaries for the city, (lat0, long0) at south-west, (lat1, long1) north-east    \n",
    "lat0 = 17.2\n",
    "lng0 = 78.15\n",
    "lat1 = 17.6\n",
    "lng1 = 78.7\n",
    "\n",
    "# Existing locations\n",
    "q0 = dataDict['sports'][['Latitude','Longitude']].to_numpy()\n",
    "\n",
    "# Random locations, uniformaly distributed\n",
    "loc_min = [lat0, lng0]\n",
    "loc_max = [lat1, lng1]\n",
    "np.random.seed(0)   \n",
    "q1 = np.random.uniform(low=loc_min, high=loc_max, size=(n_rand,2))\n",
    "\n",
    "# The full set of locations (latitude,longitude) of shape (n_total, 2)\n",
    "q = np.concatenate((q0,q1), axis=0)\n",
    "np.random.shuffle(q)   # Shuffle rows in-place"
   ]
  },
  {
   "cell_type": "code",
   "execution_count": 22,
   "metadata": {},
   "outputs": [
    {
     "data": {
      "text/plain": [
       "(8030, 2)"
      ]
     },
     "execution_count": 22,
     "metadata": {},
     "output_type": "execute_result"
    }
   ],
   "source": [
    "q.shape"
   ]
  },
  {
   "cell_type": "code",
   "execution_count": 17,
   "metadata": {},
   "outputs": [
    {
     "name": "stdout",
     "output_type": "stream",
     "text": [
      "First 100 locations from the shuffled dataset\n"
     ]
    },
    {
     "data": {
      "text/html": [
       "<div style=\"width:100%;\"><div style=\"position:relative;width:100%;height:0;padding-bottom:60%;\"><iframe src=\"data:text/html;charset=utf-8;base64,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\" style=\"position:absolute;width:100%;height:100%;left:0;top:0;border:none !important;\" allowfullscreen webkitallowfullscreen mozallowfullscreen></iframe></div></div>"
      ],
      "text/plain": [
       "<folium.folium.Map at 0x1c3665d5dd8>"
      ]
     },
     "execution_count": 17,
     "metadata": {},
     "output_type": "execute_result"
    }
   ],
   "source": [
    "# Plot first 100 locations in dataset\n",
    "map_tmp = folium.Map(\n",
    "    location=[lat_CC, lng_CC], zoom_start=10)\n",
    "\n",
    "for ind in range(100):\n",
    "    folium.CircleMarker(\n",
    "        [q[ind,0], q[ind,1]],\n",
    "        radius=3,\n",
    "        fill=True,\n",
    "        fill_opacity=0.7).add_to(map_tmp)\n",
    "\n",
    "print(\"First 100 locations from the shuffled dataset\")    \n",
    "map_tmp"
   ]
  },
  {
   "cell_type": "markdown",
   "metadata": {},
   "source": [
    "# Compile neighbors"
   ]
  },
  {
   "cell_type": "code",
   "execution_count": 18,
   "metadata": {},
   "outputs": [
    {
     "data": {
      "text/html": [
       "<div>\n",
       "<style scoped>\n",
       "    .dataframe tbody tr th:only-of-type {\n",
       "        vertical-align: middle;\n",
       "    }\n",
       "\n",
       "    .dataframe tbody tr th {\n",
       "        vertical-align: top;\n",
       "    }\n",
       "\n",
       "    .dataframe thead th {\n",
       "        text-align: right;\n",
       "    }\n",
       "</style>\n",
       "<table border=\"1\" class=\"dataframe\">\n",
       "  <thead>\n",
       "    <tr style=\"text-align: right;\">\n",
       "      <th></th>\n",
       "      <th>banks</th>\n",
       "      <th>cinemas</th>\n",
       "      <th>colleges</th>\n",
       "      <th>gyms</th>\n",
       "      <th>hospitals</th>\n",
       "      <th>pubs</th>\n",
       "      <th>restaurants</th>\n",
       "      <th>schools</th>\n",
       "      <th>sports</th>\n",
       "      <th>supermarkets</th>\n",
       "      <th>Location</th>\n",
       "    </tr>\n",
       "  </thead>\n",
       "  <tbody>\n",
       "    <tr>\n",
       "      <th>0</th>\n",
       "      <td>[0.5944527836578303, 0.9123336302107252, 1.194...</td>\n",
       "      <td>[2.522692682216958, 2.744124831810332, 3.29287...</td>\n",
       "      <td>[2.223144595847463, 2.4326837455658152, 2.5586...</td>\n",
       "      <td>[0.41412672926358185, 0.646997133053519, 1.470...</td>\n",
       "      <td>[2.42090277353192, 2.6356289195457236, 2.65109...</td>\n",
       "      <td>[0.4326443585269782, 2.0161228142085688, 2.019...</td>\n",
       "      <td>[2.836538039465303, 2.836538039465303, 3.61624...</td>\n",
       "      <td>[0.3709854835867171, 0.5719475071385788, 0.581...</td>\n",
       "      <td>[0.988785947747989, 1.5864883539320622, 1.6159...</td>\n",
       "      <td>[1.5239640962361243, 2.093068286162597, 2.4115...</td>\n",
       "      <td>[17.533391550337353, 78.30194800940666]</td>\n",
       "    </tr>\n",
       "    <tr>\n",
       "      <th>1</th>\n",
       "      <td>[0.6754174845325542, 0.6909662964703822, 0.746...</td>\n",
       "      <td>[4.242978678685626, 4.506120499155056, 7.74837...</td>\n",
       "      <td>[0.1316769685950299, 1.8442535138846745, 3.906...</td>\n",
       "      <td>[0.1467074630898394, 1.08413523730414, 1.67283...</td>\n",
       "      <td>[3.8287129507549236, 4.527567400720655, 4.5310...</td>\n",
       "      <td>[4.533506935941505, 4.741359751270816, 8.74639...</td>\n",
       "      <td>[10.35200286355682, 16.951942846263027, 16.951...</td>\n",
       "      <td>[0.5237399309266265, 0.5316808758280087, 0.924...</td>\n",
       "      <td>[0.0, 0.01802244401185628, 0.03193785841158318...</td>\n",
       "      <td>[13.9095550905986, 13.914201270681723, 14.3331...</td>\n",
       "      <td>[17.4942544, 78.1426446]</td>\n",
       "    </tr>\n",
       "    <tr>\n",
       "      <th>2</th>\n",
       "      <td>[0.9000320731504231, 1.1121263350936186, 1.862...</td>\n",
       "      <td>[3.5194393821484096, 4.006965669529676, 5.0064...</td>\n",
       "      <td>[1.1731229865782262, 1.2057817414242484, 2.164...</td>\n",
       "      <td>[1.2791132020442204, 1.8726760030303427, 2.292...</td>\n",
       "      <td>[3.3570045414089025, 4.628728949398804, 5.1632...</td>\n",
       "      <td>[1.8131426113966338, 2.393733479476149, 3.1025...</td>\n",
       "      <td>[4.588722977672581, 4.9957868317618574, 4.9959...</td>\n",
       "      <td>[0.6431877033490677, 0.9077973065666142, 0.978...</td>\n",
       "      <td>[2.1131838554216045, 2.1867739320077293, 2.265...</td>\n",
       "      <td>[2.8945219329874665, 3.0858676105521914, 3.297...</td>\n",
       "      <td>[17.560491049554074, 78.47880893577005]</td>\n",
       "    </tr>\n",
       "    <tr>\n",
       "      <th>3</th>\n",
       "      <td>[1.9520964571433121, 2.5295671991582314, 2.541...</td>\n",
       "      <td>[2.6476063264154637, 7.218344678896002, 7.8786...</td>\n",
       "      <td>[1.4878469324059138, 2.1542631253511955, 2.163...</td>\n",
       "      <td>[3.860569757988782, 4.448719670933154, 6.28645...</td>\n",
       "      <td>[1.9490993362157012, 2.529265616936954, 6.2739...</td>\n",
       "      <td>[3.9382418895588414, 6.656920586112219, 6.9937...</td>\n",
       "      <td>[6.757999703346959, 10.91715474621675, 10.9171...</td>\n",
       "      <td>[1.1941048737587028, 1.4577908836489109, 1.460...</td>\n",
       "      <td>[4.226235954295309, 4.501284194698018, 4.54204...</td>\n",
       "      <td>[9.143323881625223, 10.226474820693333, 10.591...</td>\n",
       "      <td>[17.484874162860546, 78.20175775224313]</td>\n",
       "    </tr>\n",
       "    <tr>\n",
       "      <th>4</th>\n",
       "      <td>[1.8587778706523936, 2.0702786994766655, 2.073...</td>\n",
       "      <td>[3.0576294049229586, 3.1792316795662345, 3.646...</td>\n",
       "      <td>[0.859136014770976, 1.181503056525121, 1.27237...</td>\n",
       "      <td>[1.5855157198378236, 2.9864050198093213, 3.009...</td>\n",
       "      <td>[2.8912676610374217, 2.9739750212486524, 3.015...</td>\n",
       "      <td>[2.5672689547450678, 4.394428923668141, 4.7241...</td>\n",
       "      <td>[2.875295588878758, 6.334237168437586, 6.59775...</td>\n",
       "      <td>[0.7460853468541576, 0.9752616480607812, 1.084...</td>\n",
       "      <td>[1.9332766651463544, 2.4157321275729333, 2.454...</td>\n",
       "      <td>[2.9668760226600988, 3.695570670443937, 4.1147...</td>\n",
       "      <td>[17.36214943313942, 78.32657364452378]</td>\n",
       "    </tr>\n",
       "  </tbody>\n",
       "</table>\n",
       "</div>"
      ],
      "text/plain": [
       "                                               banks  \\\n",
       "0  [0.5944527836578303, 0.9123336302107252, 1.194...   \n",
       "1  [0.6754174845325542, 0.6909662964703822, 0.746...   \n",
       "2  [0.9000320731504231, 1.1121263350936186, 1.862...   \n",
       "3  [1.9520964571433121, 2.5295671991582314, 2.541...   \n",
       "4  [1.8587778706523936, 2.0702786994766655, 2.073...   \n",
       "\n",
       "                                             cinemas  \\\n",
       "0  [2.522692682216958, 2.744124831810332, 3.29287...   \n",
       "1  [4.242978678685626, 4.506120499155056, 7.74837...   \n",
       "2  [3.5194393821484096, 4.006965669529676, 5.0064...   \n",
       "3  [2.6476063264154637, 7.218344678896002, 7.8786...   \n",
       "4  [3.0576294049229586, 3.1792316795662345, 3.646...   \n",
       "\n",
       "                                            colleges  \\\n",
       "0  [2.223144595847463, 2.4326837455658152, 2.5586...   \n",
       "1  [0.1316769685950299, 1.8442535138846745, 3.906...   \n",
       "2  [1.1731229865782262, 1.2057817414242484, 2.164...   \n",
       "3  [1.4878469324059138, 2.1542631253511955, 2.163...   \n",
       "4  [0.859136014770976, 1.181503056525121, 1.27237...   \n",
       "\n",
       "                                                gyms  \\\n",
       "0  [0.41412672926358185, 0.646997133053519, 1.470...   \n",
       "1  [0.1467074630898394, 1.08413523730414, 1.67283...   \n",
       "2  [1.2791132020442204, 1.8726760030303427, 2.292...   \n",
       "3  [3.860569757988782, 4.448719670933154, 6.28645...   \n",
       "4  [1.5855157198378236, 2.9864050198093213, 3.009...   \n",
       "\n",
       "                                           hospitals  \\\n",
       "0  [2.42090277353192, 2.6356289195457236, 2.65109...   \n",
       "1  [3.8287129507549236, 4.527567400720655, 4.5310...   \n",
       "2  [3.3570045414089025, 4.628728949398804, 5.1632...   \n",
       "3  [1.9490993362157012, 2.529265616936954, 6.2739...   \n",
       "4  [2.8912676610374217, 2.9739750212486524, 3.015...   \n",
       "\n",
       "                                                pubs  \\\n",
       "0  [0.4326443585269782, 2.0161228142085688, 2.019...   \n",
       "1  [4.533506935941505, 4.741359751270816, 8.74639...   \n",
       "2  [1.8131426113966338, 2.393733479476149, 3.1025...   \n",
       "3  [3.9382418895588414, 6.656920586112219, 6.9937...   \n",
       "4  [2.5672689547450678, 4.394428923668141, 4.7241...   \n",
       "\n",
       "                                         restaurants  \\\n",
       "0  [2.836538039465303, 2.836538039465303, 3.61624...   \n",
       "1  [10.35200286355682, 16.951942846263027, 16.951...   \n",
       "2  [4.588722977672581, 4.9957868317618574, 4.9959...   \n",
       "3  [6.757999703346959, 10.91715474621675, 10.9171...   \n",
       "4  [2.875295588878758, 6.334237168437586, 6.59775...   \n",
       "\n",
       "                                             schools  \\\n",
       "0  [0.3709854835867171, 0.5719475071385788, 0.581...   \n",
       "1  [0.5237399309266265, 0.5316808758280087, 0.924...   \n",
       "2  [0.6431877033490677, 0.9077973065666142, 0.978...   \n",
       "3  [1.1941048737587028, 1.4577908836489109, 1.460...   \n",
       "4  [0.7460853468541576, 0.9752616480607812, 1.084...   \n",
       "\n",
       "                                              sports  \\\n",
       "0  [0.988785947747989, 1.5864883539320622, 1.6159...   \n",
       "1  [0.0, 0.01802244401185628, 0.03193785841158318...   \n",
       "2  [2.1131838554216045, 2.1867739320077293, 2.265...   \n",
       "3  [4.226235954295309, 4.501284194698018, 4.54204...   \n",
       "4  [1.9332766651463544, 2.4157321275729333, 2.454...   \n",
       "\n",
       "                                        supermarkets  \\\n",
       "0  [1.5239640962361243, 2.093068286162597, 2.4115...   \n",
       "1  [13.9095550905986, 13.914201270681723, 14.3331...   \n",
       "2  [2.8945219329874665, 3.0858676105521914, 3.297...   \n",
       "3  [9.143323881625223, 10.226474820693333, 10.591...   \n",
       "4  [2.9668760226600988, 3.695570670443937, 4.1147...   \n",
       "\n",
       "                                  Location  \n",
       "0  [17.533391550337353, 78.30194800940666]  \n",
       "1                 [17.4942544, 78.1426446]  \n",
       "2  [17.560491049554074, 78.47880893577005]  \n",
       "3  [17.484874162860546, 78.20175775224313]  \n",
       "4   [17.36214943313942, 78.32657364452378]  "
      ]
     },
     "execution_count": 18,
     "metadata": {},
     "output_type": "execute_result"
    }
   ],
   "source": [
    "# q is the set of locations to be used for training/testing the model.\n",
    "# Convert all data into lists, and then initialize dataframe using these lists.\n",
    "qList = list(q) # Each element of this list is a numpy array of shape (2,) for (latitude,longitude)\n",
    "\n",
    "# Now create a dict to hold distances to neighboring venues\n",
    "nbrDict = {}\n",
    "for key in venueCats:\n",
    "    nbrDict[key] = [] #Initialize empty list\n",
    "\n",
    "# For every location in q, append list containing distance to n_nbrs neighbors\n",
    "for key in venueCats:\n",
    "    for loc in qList:\n",
    "        nbrDict[key].append(\n",
    "            closestVenueModel[key].kneighbors( [ [loc[0],loc[1]] ] )[0].flatten()   )\n",
    "nbrDict['Location'] = qList\n",
    "df_data = pd.DataFrame.from_dict(nbrDict)\n",
    "df_data.head()"
   ]
  },
  {
   "cell_type": "code",
   "execution_count": 20,
   "metadata": {},
   "outputs": [
    {
     "data": {
      "text/html": [
       "<div>\n",
       "<style scoped>\n",
       "    .dataframe tbody tr th:only-of-type {\n",
       "        vertical-align: middle;\n",
       "    }\n",
       "\n",
       "    .dataframe tbody tr th {\n",
       "        vertical-align: top;\n",
       "    }\n",
       "\n",
       "    .dataframe thead th {\n",
       "        text-align: right;\n",
       "    }\n",
       "</style>\n",
       "<table border=\"1\" class=\"dataframe\">\n",
       "  <thead>\n",
       "    <tr style=\"text-align: right;\">\n",
       "      <th></th>\n",
       "      <th>Location</th>\n",
       "      <th>Latitude</th>\n",
       "      <th>Longitude</th>\n",
       "      <th>banks</th>\n",
       "      <th>cinemas</th>\n",
       "      <th>colleges</th>\n",
       "      <th>gyms</th>\n",
       "      <th>hospitals</th>\n",
       "      <th>pubs</th>\n",
       "      <th>restaurants</th>\n",
       "      <th>schools</th>\n",
       "      <th>sports</th>\n",
       "      <th>supermarkets</th>\n",
       "    </tr>\n",
       "  </thead>\n",
       "  <tbody>\n",
       "    <tr>\n",
       "      <th>0</th>\n",
       "      <td>[17.533391550337353, 78.30194800940666]</td>\n",
       "      <td>17.533392</td>\n",
       "      <td>78.301948</td>\n",
       "      <td>[0.5944527836578303, 0.9123336302107252, 1.194...</td>\n",
       "      <td>[2.522692682216958, 2.744124831810332, 3.29287...</td>\n",
       "      <td>[2.223144595847463, 2.4326837455658152, 2.5586...</td>\n",
       "      <td>[0.41412672926358185, 0.646997133053519, 1.470...</td>\n",
       "      <td>[2.42090277353192, 2.6356289195457236, 2.65109...</td>\n",
       "      <td>[0.4326443585269782, 2.0161228142085688, 2.019...</td>\n",
       "      <td>[2.836538039465303, 2.836538039465303, 3.61624...</td>\n",
       "      <td>[0.3709854835867171, 0.5719475071385788, 0.581...</td>\n",
       "      <td>[0.988785947747989, 1.5864883539320622, 1.6159...</td>\n",
       "      <td>[1.5239640962361243, 2.093068286162597, 2.4115...</td>\n",
       "    </tr>\n",
       "    <tr>\n",
       "      <th>1</th>\n",
       "      <td>[17.4942544, 78.1426446]</td>\n",
       "      <td>17.494254</td>\n",
       "      <td>78.142645</td>\n",
       "      <td>[0.6754174845325542, 0.6909662964703822, 0.746...</td>\n",
       "      <td>[4.242978678685626, 4.506120499155056, 7.74837...</td>\n",
       "      <td>[0.1316769685950299, 1.8442535138846745, 3.906...</td>\n",
       "      <td>[0.1467074630898394, 1.08413523730414, 1.67283...</td>\n",
       "      <td>[3.8287129507549236, 4.527567400720655, 4.5310...</td>\n",
       "      <td>[4.533506935941505, 4.741359751270816, 8.74639...</td>\n",
       "      <td>[10.35200286355682, 16.951942846263027, 16.951...</td>\n",
       "      <td>[0.5237399309266265, 0.5316808758280087, 0.924...</td>\n",
       "      <td>[0.0, 0.01802244401185628, 0.03193785841158318...</td>\n",
       "      <td>[13.9095550905986, 13.914201270681723, 14.3331...</td>\n",
       "    </tr>\n",
       "    <tr>\n",
       "      <th>2</th>\n",
       "      <td>[17.560491049554074, 78.47880893577005]</td>\n",
       "      <td>17.560491</td>\n",
       "      <td>78.478809</td>\n",
       "      <td>[0.9000320731504231, 1.1121263350936186, 1.862...</td>\n",
       "      <td>[3.5194393821484096, 4.006965669529676, 5.0064...</td>\n",
       "      <td>[1.1731229865782262, 1.2057817414242484, 2.164...</td>\n",
       "      <td>[1.2791132020442204, 1.8726760030303427, 2.292...</td>\n",
       "      <td>[3.3570045414089025, 4.628728949398804, 5.1632...</td>\n",
       "      <td>[1.8131426113966338, 2.393733479476149, 3.1025...</td>\n",
       "      <td>[4.588722977672581, 4.9957868317618574, 4.9959...</td>\n",
       "      <td>[0.6431877033490677, 0.9077973065666142, 0.978...</td>\n",
       "      <td>[2.1131838554216045, 2.1867739320077293, 2.265...</td>\n",
       "      <td>[2.8945219329874665, 3.0858676105521914, 3.297...</td>\n",
       "    </tr>\n",
       "    <tr>\n",
       "      <th>3</th>\n",
       "      <td>[17.484874162860546, 78.20175775224313]</td>\n",
       "      <td>17.484874</td>\n",
       "      <td>78.201758</td>\n",
       "      <td>[1.9520964571433121, 2.5295671991582314, 2.541...</td>\n",
       "      <td>[2.6476063264154637, 7.218344678896002, 7.8786...</td>\n",
       "      <td>[1.4878469324059138, 2.1542631253511955, 2.163...</td>\n",
       "      <td>[3.860569757988782, 4.448719670933154, 6.28645...</td>\n",
       "      <td>[1.9490993362157012, 2.529265616936954, 6.2739...</td>\n",
       "      <td>[3.9382418895588414, 6.656920586112219, 6.9937...</td>\n",
       "      <td>[6.757999703346959, 10.91715474621675, 10.9171...</td>\n",
       "      <td>[1.1941048737587028, 1.4577908836489109, 1.460...</td>\n",
       "      <td>[4.226235954295309, 4.501284194698018, 4.54204...</td>\n",
       "      <td>[9.143323881625223, 10.226474820693333, 10.591...</td>\n",
       "    </tr>\n",
       "    <tr>\n",
       "      <th>4</th>\n",
       "      <td>[17.36214943313942, 78.32657364452378]</td>\n",
       "      <td>17.362149</td>\n",
       "      <td>78.326574</td>\n",
       "      <td>[1.8587778706523936, 2.0702786994766655, 2.073...</td>\n",
       "      <td>[3.0576294049229586, 3.1792316795662345, 3.646...</td>\n",
       "      <td>[0.859136014770976, 1.181503056525121, 1.27237...</td>\n",
       "      <td>[1.5855157198378236, 2.9864050198093213, 3.009...</td>\n",
       "      <td>[2.8912676610374217, 2.9739750212486524, 3.015...</td>\n",
       "      <td>[2.5672689547450678, 4.394428923668141, 4.7241...</td>\n",
       "      <td>[2.875295588878758, 6.334237168437586, 6.59775...</td>\n",
       "      <td>[0.7460853468541576, 0.9752616480607812, 1.084...</td>\n",
       "      <td>[1.9332766651463544, 2.4157321275729333, 2.454...</td>\n",
       "      <td>[2.9668760226600988, 3.695570670443937, 4.1147...</td>\n",
       "    </tr>\n",
       "  </tbody>\n",
       "</table>\n",
       "</div>"
      ],
      "text/plain": [
       "                                  Location   Latitude  Longitude  \\\n",
       "0  [17.533391550337353, 78.30194800940666]  17.533392  78.301948   \n",
       "1                 [17.4942544, 78.1426446]  17.494254  78.142645   \n",
       "2  [17.560491049554074, 78.47880893577005]  17.560491  78.478809   \n",
       "3  [17.484874162860546, 78.20175775224313]  17.484874  78.201758   \n",
       "4   [17.36214943313942, 78.32657364452378]  17.362149  78.326574   \n",
       "\n",
       "                                               banks  \\\n",
       "0  [0.5944527836578303, 0.9123336302107252, 1.194...   \n",
       "1  [0.6754174845325542, 0.6909662964703822, 0.746...   \n",
       "2  [0.9000320731504231, 1.1121263350936186, 1.862...   \n",
       "3  [1.9520964571433121, 2.5295671991582314, 2.541...   \n",
       "4  [1.8587778706523936, 2.0702786994766655, 2.073...   \n",
       "\n",
       "                                             cinemas  \\\n",
       "0  [2.522692682216958, 2.744124831810332, 3.29287...   \n",
       "1  [4.242978678685626, 4.506120499155056, 7.74837...   \n",
       "2  [3.5194393821484096, 4.006965669529676, 5.0064...   \n",
       "3  [2.6476063264154637, 7.218344678896002, 7.8786...   \n",
       "4  [3.0576294049229586, 3.1792316795662345, 3.646...   \n",
       "\n",
       "                                            colleges  \\\n",
       "0  [2.223144595847463, 2.4326837455658152, 2.5586...   \n",
       "1  [0.1316769685950299, 1.8442535138846745, 3.906...   \n",
       "2  [1.1731229865782262, 1.2057817414242484, 2.164...   \n",
       "3  [1.4878469324059138, 2.1542631253511955, 2.163...   \n",
       "4  [0.859136014770976, 1.181503056525121, 1.27237...   \n",
       "\n",
       "                                                gyms  \\\n",
       "0  [0.41412672926358185, 0.646997133053519, 1.470...   \n",
       "1  [0.1467074630898394, 1.08413523730414, 1.67283...   \n",
       "2  [1.2791132020442204, 1.8726760030303427, 2.292...   \n",
       "3  [3.860569757988782, 4.448719670933154, 6.28645...   \n",
       "4  [1.5855157198378236, 2.9864050198093213, 3.009...   \n",
       "\n",
       "                                           hospitals  \\\n",
       "0  [2.42090277353192, 2.6356289195457236, 2.65109...   \n",
       "1  [3.8287129507549236, 4.527567400720655, 4.5310...   \n",
       "2  [3.3570045414089025, 4.628728949398804, 5.1632...   \n",
       "3  [1.9490993362157012, 2.529265616936954, 6.2739...   \n",
       "4  [2.8912676610374217, 2.9739750212486524, 3.015...   \n",
       "\n",
       "                                                pubs  \\\n",
       "0  [0.4326443585269782, 2.0161228142085688, 2.019...   \n",
       "1  [4.533506935941505, 4.741359751270816, 8.74639...   \n",
       "2  [1.8131426113966338, 2.393733479476149, 3.1025...   \n",
       "3  [3.9382418895588414, 6.656920586112219, 6.9937...   \n",
       "4  [2.5672689547450678, 4.394428923668141, 4.7241...   \n",
       "\n",
       "                                         restaurants  \\\n",
       "0  [2.836538039465303, 2.836538039465303, 3.61624...   \n",
       "1  [10.35200286355682, 16.951942846263027, 16.951...   \n",
       "2  [4.588722977672581, 4.9957868317618574, 4.9959...   \n",
       "3  [6.757999703346959, 10.91715474621675, 10.9171...   \n",
       "4  [2.875295588878758, 6.334237168437586, 6.59775...   \n",
       "\n",
       "                                             schools  \\\n",
       "0  [0.3709854835867171, 0.5719475071385788, 0.581...   \n",
       "1  [0.5237399309266265, 0.5316808758280087, 0.924...   \n",
       "2  [0.6431877033490677, 0.9077973065666142, 0.978...   \n",
       "3  [1.1941048737587028, 1.4577908836489109, 1.460...   \n",
       "4  [0.7460853468541576, 0.9752616480607812, 1.084...   \n",
       "\n",
       "                                              sports  \\\n",
       "0  [0.988785947747989, 1.5864883539320622, 1.6159...   \n",
       "1  [0.0, 0.01802244401185628, 0.03193785841158318...   \n",
       "2  [2.1131838554216045, 2.1867739320077293, 2.265...   \n",
       "3  [4.226235954295309, 4.501284194698018, 4.54204...   \n",
       "4  [1.9332766651463544, 2.4157321275729333, 2.454...   \n",
       "\n",
       "                                        supermarkets  \n",
       "0  [1.5239640962361243, 2.093068286162597, 2.4115...  \n",
       "1  [13.9095550905986, 13.914201270681723, 14.3331...  \n",
       "2  [2.8945219329874665, 3.0858676105521914, 3.297...  \n",
       "3  [9.143323881625223, 10.226474820693333, 10.591...  \n",
       "4  [2.9668760226600988, 3.695570670443937, 4.1147...  "
      ]
     },
     "execution_count": 20,
     "metadata": {},
     "output_type": "execute_result"
    }
   ],
   "source": [
    "# Add latitude, longitude, and label\n",
    "df_data['Latitude'] = [row[0] for row in df_data['Location']]\n",
    "df_data['Longitude'] = [row[1] for row in df_data['Location']]\n",
    "\n",
    "# The order of columns is a bit messy. Reorder them.\n",
    "orderDesired = [\"Location\", \"Latitude\", \"Longitude\"] + venueCats\n",
    "df_data = df_data[orderDesired]\n",
    "df_data.head()"
   ]
  },
  {
   "cell_type": "code",
   "execution_count": null,
   "metadata": {},
   "outputs": [],
   "source": []
  },
  {
   "cell_type": "markdown",
   "metadata": {},
   "source": [
    "# Save full dataset"
   ]
  },
  {
   "cell_type": "markdown",
   "metadata": {},
   "source": [
    "Save DataFrame to disk as JSON. This data is used in the next notebook to build and evaluate a bunch of models"
   ]
  },
  {
   "cell_type": "code",
   "execution_count": 21,
   "metadata": {},
   "outputs": [],
   "source": [
    "saveName = \"fullDataSet.json\"\n",
    "df_data.to_json(saveName)"
   ]
  },
  {
   "cell_type": "code",
   "execution_count": null,
   "metadata": {},
   "outputs": [],
   "source": []
  }
 ],
 "metadata": {
  "kernelspec": {
   "display_name": "Python 3",
   "language": "python",
   "name": "python3"
  },
  "language_info": {
   "codemirror_mode": {
    "name": "ipython",
    "version": 3
   },
   "file_extension": ".py",
   "mimetype": "text/x-python",
   "name": "python",
   "nbconvert_exporter": "python",
   "pygments_lexer": "ipython3",
   "version": "3.7.0"
  }
 },
 "nbformat": 4,
 "nbformat_minor": 2
}
